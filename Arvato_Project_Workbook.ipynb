{
 "cells": [
  {
   "cell_type": "markdown",
   "metadata": {},
   "source": [
    "# Capstone Project: Create a Customer Segmentation Report for Arvato Financial Services\n",
    "\n",
    "In this project, you will analyze demographics data for customers of a mail-order sales company in Germany, comparing it against demographics information for the general population. You'll use unsupervised learning techniques to perform customer segmentation, identifying the parts of the population that best describe the core customer base of the company. Then, you'll apply what you've learned on a third dataset with demographics information for targets of a marketing campaign for the company, and use a model to predict which individuals are most likely to convert into becoming customers for the company. The data that you will use has been provided by our partners at Bertelsmann Arvato Analytics, and represents a real-life data science task.\n",
    "\n",
    "If you completed the first term of this program, you will be familiar with the first part of this project, from the unsupervised learning project. The versions of those two datasets used in this project will include many more features and has not been pre-cleaned. You are also free to choose whatever approach you'd like to analyzing the data rather than follow pre-determined steps. In your work on this project, make sure that you carefully document your steps and decisions, since your main deliverable for this project will be a blog post reporting your findings."
   ]
  },
  {
   "cell_type": "code",
   "execution_count": 1,
   "metadata": {},
   "outputs": [],
   "source": [
    "# import libraries here; add more as necessary\n",
    "import numpy as np\n",
    "import pandas as pd\n",
    "import matplotlib.pyplot as plt\n",
    "import seaborn as sns\n",
    "from sklearn.preprocessing import MinMaxScaler\n",
    "from sklearn.decomposition import PCA\n",
    "from sklearn.decomposition import SparsePCA\n",
    "from sklearn.linear_model import LogisticRegression\n",
    "from sklearn.cluster import KMeans\n",
    "\n",
    "# magic word for producing visualizations in notebook\n",
    "%matplotlib inline"
   ]
  },
  {
   "cell_type": "markdown",
   "metadata": {},
   "source": [
    "## Part 0: Get to Know the Data\n",
    "\n",
    "There are four data files associated with this project:\n",
    "\n",
    "- `Udacity_AZDIAS_052018.csv`: Demographics data for the general population of Germany; 891 211 persons (rows) x 366 features (columns).\n",
    "- `Udacity_CUSTOMERS_052018.csv`: Demographics data for customers of a mail-order company; 191 652 persons (rows) x 369 features (columns).\n",
    "- `Udacity_MAILOUT_052018_TRAIN.csv`: Demographics data for individuals who were targets of a marketing campaign; 42 982 persons (rows) x 367 (columns).\n",
    "- `Udacity_MAILOUT_052018_TEST.csv`: Demographics data for individuals who were targets of a marketing campaign; 42 833 persons (rows) x 366 (columns).\n",
    "\n",
    "Each row of the demographics files represents a single person, but also includes information outside of individuals, including information about their household, building, and neighborhood. Use the information from the first two files to figure out how customers (\"CUSTOMERS\") are similar to or differ from the general population at large (\"AZDIAS\"), then use your analysis to make predictions on the other two files (\"MAILOUT\"), predicting which recipients are most likely to become a customer for the mail-order company.\n",
    "\n",
    "The \"CUSTOMERS\" file contains three extra columns ('CUSTOMER_GROUP', 'ONLINE_PURCHASE', and 'PRODUCT_GROUP'), which provide broad information about the customers depicted in the file. The original \"MAILOUT\" file included one additional column, \"RESPONSE\", which indicated whether or not each recipient became a customer of the company. For the \"TRAIN\" subset, this column has been retained, but in the \"TEST\" subset it has been removed; it is against that withheld column that your final predictions will be assessed in the Kaggle competition.\n",
    "\n",
    "Otherwise, all of the remaining columns are the same between the three data files. For more information about the columns depicted in the files, you can refer to two Excel spreadsheets provided in the workspace. [One of them](./DIAS Information Levels - Attributes 2017.xlsx) is a top-level list of attributes and descriptions, organized by informational category. [The other](./DIAS Attributes - Values 2017.xlsx) is a detailed mapping of data values for each feature in alphabetical order.\n",
    "\n",
    "In the below cell, we've provided some initial code to load in the first two datasets. Note for all of the `.csv` data files in this project that they're semicolon (`;`) delimited, so an additional argument in the [`read_csv()`](https://pandas.pydata.org/pandas-docs/stable/generated/pandas.read_csv.html) call has been included to read in the data properly. Also, considering the size of the datasets, it may take some time for them to load completely.\n",
    "\n",
    "You'll notice when the data is loaded in that a warning message will immediately pop up. Before you really start digging into the modeling and analysis, you're going to need to perform some cleaning. Take some time to browse the structure of the data and look over the informational spreadsheets to understand the data values. Make some decisions on which features to keep, which features to drop, and if any revisions need to be made on data formats. It'll be a good idea to create a function with pre-processing steps, since you'll need to clean all of the datasets before you work with them."
   ]
  },
  {
   "cell_type": "code",
   "execution_count": 2,
   "metadata": {},
   "outputs": [
    {
     "name": "stderr",
     "output_type": "stream",
     "text": [
      "/opt/conda/lib/python3.6/site-packages/IPython/core/interactiveshell.py:2785: DtypeWarning: Columns (18,19) have mixed types. Specify dtype option on import or set low_memory=False.\n",
      "  interactivity=interactivity, compiler=compiler, result=result)\n"
     ]
    }
   ],
   "source": [
    "# load in the data\n",
    "azdias = pd.read_csv('../../data/Term2/capstone/arvato_data/Udacity_AZDIAS_052018.csv', sep=';')\n",
    "customers = pd.read_csv('../../data/Term2/capstone/arvato_data/Udacity_CUSTOMERS_052018.csv', sep=';')\n",
    "\n",
    "#import os\n",
    "#os.getcwd()\n",
    "#azdias.to_csv('/home/workspace/Udacity_AZDIAS_052018.csv', sep=';')"
   ]
  },
  {
   "cell_type": "markdown",
   "metadata": {},
   "source": [
    "## Part 1: Customer Segmentation Report\n",
    "\n",
    "The main bulk of your analysis will come in this part of the project. Here, you should use unsupervised learning techniques to describe the relationship between the demographics of the company's existing customers and the general population of Germany. By the end of this part, you should be able to describe parts of the general population that are more likely to be part of the mail-order company's main customer base, and which parts of the general population are less so."
   ]
  },
  {
   "cell_type": "markdown",
   "metadata": {},
   "source": [
    "The cell below defines a function to treat the not available (NA) cells or missing values:\n",
    "    - remove features with more than 20% of NA, this can also be done with dropna method\n",
    "    - drop records with not available data "
   ]
  },
  {
   "cell_type": "code",
   "execution_count": 3,
   "metadata": {},
   "outputs": [
    {
     "name": "stdout",
     "output_type": "stream",
     "text": [
      "--- Treating NA in pandas dataframe ---\n",
      "Shape of dataframe after NA treatment:  (191652, 369)\n",
      "Shape of dataframe before NA treatment:  (185560, 113)\n",
      "\n",
      "Number of features removed:  256\n",
      "Percentage of records removed:  3.18 %\n"
     ]
    },
    {
     "name": "stderr",
     "output_type": "stream",
     "text": [
      "/opt/conda/lib/python3.6/site-packages/ipykernel_launcher.py:20: SettingWithCopyWarning: \n",
      "A value is trying to be set on a copy of a slice from a DataFrame\n",
      "\n",
      "See the caveats in the documentation: http://pandas.pydata.org/pandas-docs/stable/indexing.html#indexing-view-versus-copy\n"
     ]
    }
   ],
   "source": [
    "def treat_NA(df, por_nas):\n",
    "    \"\"\"\n",
    "    Remove features with por_nas % of NA and drop records with NA\n",
    "    \n",
    "    Input:\n",
    "        df: pandas dataframe\n",
    "        por_nas: maximun porcentage of NA that a feature must have to be romoved\n",
    "        \n",
    "    Output:\n",
    "        df_new: pandas dataframe without NA\n",
    "    \"\"\"\n",
    "    \n",
    "    por_nas_cols = df.isna().sum(axis = 0) / df.shape[0] * 100\n",
    "    new_cols = df.columns[por_nas_cols < por_nas] \n",
    "    try:\n",
    "        new_cols = new_cols.drop(['CUSTOMER_GROUP', 'ONLINE_PURCHASE', 'PRODUCT_GROUP'])\n",
    "    except:\n",
    "        pass\n",
    "    df_nas = df[list(new_cols)]\n",
    "    df_nas.dropna(inplace=True)\n",
    "    \n",
    "    # Unknown classes treatment\n",
    "    #por_nas_cols = np.sum(c_nas.iloc[:,:] == -1, axis = 0) / c_nas.shape[0] * 100\n",
    "    #new_cols = c_nas.columns[por_nas_cols > 20] \n",
    "    \n",
    "    print('--- Treating NA in pandas dataframe ---')\n",
    "    print('Shape of dataframe after NA treatment: ', df.shape)\n",
    "    print('Shape of dataframe before NA treatment: ', df_nas.shape)\n",
    "    print('\\nNumber of features removed: ', df.shape[1]-df_nas.shape[1])\n",
    "    print('Percentage of records removed: ', round((df.shape[0]-df_nas.shape[0])/df.shape[0]*100, 2), '%')\n",
    "    \n",
    "    return df_nas\n",
    "\n",
    "c_nas = treat_NA(customers, 20)"
   ]
  },
  {
   "cell_type": "markdown",
   "metadata": {},
   "source": [
    "The cell below defines a function that first transforms categorical variables into dummies and second standardize the numerical features"
   ]
  },
  {
   "cell_type": "code",
   "execution_count": 4,
   "metadata": {},
   "outputs": [
    {
     "name": "stdout",
     "output_type": "stream",
     "text": [
      "--- Creating dummies and standardizing ---\n",
      "Number of dummies variables created:  0\n",
      "Number of scaled features:  113\n"
     ]
    }
   ],
   "source": [
    "def dummies_and_scale(df_nas):\n",
    "    \"\"\"\n",
    "    Transform categorical features and standardize numerical ones\n",
    "    \n",
    "    Input:\n",
    "        df_nas: dataframe without NA\n",
    "        \n",
    "    Output:\n",
    "        df_dummies: dataframe without categorical features \n",
    "        df_scaled: dataframe without categorical features and standardize \n",
    "    \"\"\"\n",
    "    \n",
    "    df_dummies = pd.get_dummies(df_nas) \n",
    "    scaler = MinMaxScaler()\n",
    "    df_scaled = pd.DataFrame(scaler.fit_transform(df_dummies.astype(float)))\n",
    "    df_scaled.columns = df_dummies.columns\n",
    "    df_scaled.index = df_dummies.index\n",
    "\n",
    "    print('--- Creating dummies and standardizing ---')\n",
    "    print('Number of dummies variables created: ', df_dummies.shape[1]-df_nas.shape[1])\n",
    "    print('Number of scaled features: ', df_scaled.shape[1])\n",
    "    return df_dummies, df_scaled\n",
    "\n",
    "c_dummies, c_scaled = dummies_and_scale(c_nas)"
   ]
  },
  {
   "cell_type": "markdown",
   "metadata": {},
   "source": [
    "The next cells are related to feature selection, which is an important step before doing exploratory analysis or any other. The different methods that I propose are explianed in the report.pdf. I propose three methods:\n",
    "    - Principal component analysis (PCA)\n",
    "    - Sparse PCA\n",
    "    - Logistic regression\n",
    "    \n",
    "So, the first thing before finding the most representative features of the dataset is implementing functions for PCA, SparsePCA and logistic regression."
   ]
  },
  {
   "cell_type": "code",
   "execution_count": 5,
   "metadata": {},
   "outputs": [
    {
     "name": "stdout",
     "output_type": "stream",
     "text": [
      "--- Creating PCAs ---\n",
      "Number of principal components created:  25\n",
      "Porcentage of the total variance explained:  0.77 %\n",
      "--- Creating PCAs ---\n",
      "Number of principal components created:  3\n",
      "Porcentage of the total variance explained:  0.46 %\n"
     ]
    }
   ],
   "source": [
    "def PCA_decomposition(df_scaled, n_pca, method):\n",
    "    \"\"\"\n",
    "    This function creates n_pca number of principal components of a given dataset.\n",
    "    \n",
    "    Input:\n",
    "        df_cleaned: dataframe without categorical features and standardize \n",
    "        n_pca: number of components\n",
    "        method: 'PCA' or 'SparsePCA'\n",
    "        \n",
    "    Output:\n",
    "        loadings: the transformation matrix from dr_cleaned to the new variables\n",
    "        df_pcas: the new dataframe   \n",
    "    \"\"\"\n",
    "    \n",
    "    pca = PCA(n_components = n_pca)\n",
    "    pca.fit(df_scaled)\n",
    "    por_exp = round(np.sum(pca.explained_variance_ratio_), 2)\n",
    "    \n",
    "    if method == 'SparsePCA':\n",
    "        pca = SparsePCA(n_components = n_pca)\n",
    "        pca.fit(df_scaled)\n",
    "        \n",
    "    loadings = pca.components_\n",
    "    df_pcas = pd.DataFrame(np.matmul(df_scaled, np.transpose(pca.components_)))\n",
    "    \n",
    "    print('--- Creating PCAs ---')\n",
    "    print('Number of principal components created: ', n_pca)\n",
    "    print('Porcentage of the total variance explained: ', por_exp, '%')\n",
    "    return loadings, df_pcas\n",
    "\n",
    "c_loading, c_df_pcas = PCA_decomposition(c_scaled, 25, 'PCA')\n",
    "c_loadingS, c_df_Spcas = PCA_decomposition(c_scaled, 3, 'SparsePCA')"
   ]
  },
  {
   "cell_type": "code",
   "execution_count": 6,
   "metadata": {},
   "outputs": [],
   "source": [
    "def logit_reg(y, X):\n",
    "    \"\"\"\n",
    "    Fit a logistic model.\n",
    "    \n",
    "    Input:\n",
    "        y: response variable\n",
    "        X: explanatory variables\n",
    "        \n",
    "    Output: estimation parameters\n",
    "        \n",
    "    \"\"\"\n",
    "    \n",
    "    \n",
    "    clf = LogisticRegression().fit(X, y)\n",
    "    return clf, clf.coef_\n",
    "    \n",
    "y = customers['ONLINE_PURCHASE'][list(c_scaled.index)]\n",
    "X = c_scaled\n",
    "c_clf, c_coefs = logit_reg(y, X)"
   ]
  },
  {
   "cell_type": "code",
   "execution_count": 7,
   "metadata": {},
   "outputs": [],
   "source": [
    "def select_features(sort_dict, features, n_importance):\n",
    "    \"\"\"\n",
    "    Given the importance of each feature this function returns the n_importance number of them\n",
    "    \n",
    "    Input:\n",
    "        sort_dict: dictionary containing the importance of each feature\n",
    "        features: list of features\n",
    "        n_imoprtance: number of features to be choosen\n",
    "        \n",
    "    Output: return the most important features\n",
    "    \"\"\"\n",
    "    \n",
    "    aux = dict(enumerate(abs(sort_dict[0])))\n",
    "    aux_sort = {k: v for k, v in sorted(aux.items(), key=lambda item: item[1])}    \n",
    "    cols = features[list(aux_sort.keys())[-n_importance:]]\n",
    "    print(list(reversed(cols.tolist())))\n",
    "    return list(reversed(cols.tolist()))"
   ]
  },
  {
   "cell_type": "code",
   "execution_count": 297,
   "metadata": {},
   "outputs": [
    {
     "name": "stdout",
     "output_type": "stream",
     "text": [
      "['FINANZ_ANLEGER', 'D19_KONSUMTYP_MAX', 'VERS_TYP', 'FINANZ_UNAUFFAELLIGER', 'SEMIO_VERT']\n",
      "['D19_BANKEN_DATUM', 'D19_BANKEN_ONLINE_DATUM', 'D19_BANKEN_OFFLINE_DATUM', 'D19_VERSAND_ONLINE_DATUM', 'D19_TELKO_OFFLINE_DATUM']\n",
      "['CJT_TYP_4', 'CJT_TYP_3', 'CJT_TYP_1', 'CJT_KATALOGNUTZER', 'CJT_TYP_6']\n"
     ]
    }
   ],
   "source": [
    "cols_pca = select_features(c_loading, c_scaled.columns, 5) # [69, 37, 109, 73, 107] \n",
    "cols_spca = select_features(c_loadingS, c_scaled.columns, 5)  # [12, 17, 16, 59, 51]\n",
    "cols_logit = select_features(c_coefs, c_scaled.columns, 5) # [90, 95, 59, 7, 74]\n",
    "selected_cols = np.unique(cols_pca + cols_spca + cols_logit).tolist()"
   ]
  },
  {
   "cell_type": "markdown",
   "metadata": {},
   "source": [
    "Once we have found the most relevant features of the customers dataset, an exploratory analysis can be done. For example, correlation between the selected features is a good start, since high correlated features must be removed. also, a percentage of correlation per feature is displayed as a resume of the matrix."
   ]
  },
  {
   "cell_type": "code",
   "execution_count": 9,
   "metadata": {},
   "outputs": [
    {
     "data": {
      "text/plain": [
       "ALTERSKATEGORIE_GROB        42.558171\n",
       "D19_BANKEN_DATUM            34.691026\n",
       "D19_BANKEN_OFFLINE_DATUM    22.495457\n",
       "D19_BANKEN_ONLINE_DATUM     26.836234\n",
       "D19_GESAMT_ANZ_12           42.351565\n",
       "D19_KONSUMTYP_MAX           53.777987\n",
       "D19_TELKO_OFFLINE_DATUM     23.460476\n",
       "D19_VERSAND_ONLINE_DATUM    40.358096\n",
       "FINANZ_ANLEGER              49.215798\n",
       "FINANZ_UNAUFFAELLIGER       48.790627\n",
       "KOMBIALTER                  56.616979\n",
       "PRAEGENDE_JUGENDJAHRE       42.302381\n",
       "SEMIO_VERT                  48.402437\n",
       "VERS_TYP                    53.359115\n",
       "dtype: float64"
      ]
     },
     "execution_count": 9,
     "metadata": {},
     "output_type": "execute_result"
    }
   ],
   "source": [
    "c_cleaned_s = c_dummies[selected_cols]\n",
    "cors = c_cleaned_s.corr()\n",
    "abs(cors)\n",
    "abs(cors).sum(axis=1) / cors.shape[0] * 100"
   ]
  },
  {
   "cell_type": "markdown",
   "metadata": {},
   "source": [
    "The next cell creates histograms for every selected feature, from ind = 0 to ind = 13 (14 features). It also prints unique values per feature. Finally, a descriptive statistics summary is depicted for those customers that purchase online."
   ]
  },
  {
   "cell_type": "code",
   "execution_count": 10,
   "metadata": {},
   "outputs": [
    {
     "name": "stdout",
     "output_type": "stream",
     "text": [
      "Unique values in KOMBIALTER are: [1 2 3 4 9]\n"
     ]
    },
    {
     "data": {
      "image/png": "[encoded data removed]",
      "text/plain": [
       "<matplotlib.figure.Figure at 0x7fc09c7714a8>"
      ]
     },
     "metadata": {
      "needs_background": "light"
     },
     "output_type": "display_data"
    }
   ],
   "source": [
    "ind = 10\n",
    "uniques_col = np.unique(c_cleaned_s.iloc[:,ind]) \n",
    "print('Unique values in', selected_cols[ind], 'are:', uniques_col)\n",
    "plt.hist(c_cleaned_s.iloc[:,ind], bins='auto')\n",
    "plt.title('Histogram of ' + selected_cols[ind] + ' feature')\n",
    "plt.show()"
   ]
  },
  {
   "cell_type": "code",
   "execution_count": 11,
   "metadata": {},
   "outputs": [
    {
     "data": {
      "text/plain": [
       "29.552274636898328"
      ]
     },
     "execution_count": 11,
     "metadata": {},
     "output_type": "execute_result"
    }
   ],
   "source": [
    "#y.sum() / y.shape[0] * 100\n",
    "c_cleaned_s_1 = c_cleaned_s[y == 1]\n",
    "c_cleaned_s_1.describe().round().iloc[:,:5]\n",
    "y[c_cleaned_s.iloc[:,ind] == 4].sum() / y.sum()*100"
   ]
  },
  {
   "cell_type": "markdown",
   "metadata": {},
   "source": [
    "After exploratory analysis is done clustering for the customers dataset is the next step. First, we must choose a good numbre of clusters, k. That is, finding a good trade off between inertia (sum of errors per cluster) and k. For this purpose, the graph below is very useful. A good k is when erros stops decreasing. In this case, k = 30 would be a good option in term of error but not in terms of efficiency computing or interpretability, so k = 5 is choosen."
   ]
  },
  {
   "cell_type": "code",
   "execution_count": 10,
   "metadata": {},
   "outputs": [
    {
     "data": {
      "image/png": "[encoded data removed]",
      "text/plain": [
       "<matplotlib.figure.Figure at 0x7f3f285ba748>"
      ]
     },
     "metadata": {
      "needs_background": "light"
     },
     "output_type": "display_data"
    }
   ],
   "source": [
    "avg = []\n",
    "for k in range(2, 30):\n",
    "    kmeans = KMeans(n_clusters=k, random_state=0).fit(c_scaled)\n",
    "    avg.append(kmeans.inertia_)\n",
    "    \n",
    "plt.plot(range(2,30), avg)\n",
    "plt.title('Choosing k')\n",
    "plt.xlabel('k: number of clusters')\n",
    "plt.ylabel('sum of errors per cluster')\n",
    "plt.show()"
   ]
  },
  {
   "cell_type": "markdown",
   "metadata": {},
   "source": [
    "Now that a good option for the number of clusters (k) have been found, it is time to create a function that given a dataset an k performs k-means clustering. After this, differences between the representative columns ONLINE_PURCHASE, PRODUCT_GROUP and CUSTOMER_GROUP are found. This is done creating a dataframe where each row is a cluster and the columns are the % of each of the clases of the previous columns. Finally, it can be observed that by ordering the last column the other columns are in crescent order too."
   ]
  },
  {
   "cell_type": "code",
   "execution_count": 12,
   "metadata": {},
   "outputs": [],
   "source": [
    "# np.unique(customers['ONLINE_PURCHASE']) # [0, 1]\n",
    "# np.unique(customers['PRODUCT_GROUP']) # ['COSMETIC', 'COSMETIC_AND_FOOD', 'FOOD']\n",
    "# np.unique(customers['CUSTOMER_GROUP']) # ['MULTI_BUYER', 'SINGLE_BUYER']\n",
    "\n",
    "def k_means(df_scaled, k):\n",
    "    \"\"\"\n",
    "    Perform k-means clustering\n",
    "    \n",
    "    Input: \n",
    "        df_scaled: dataframe without categorical features and standardize \n",
    "        k: number of clusters\n",
    "        \n",
    "    Output:\n",
    "        \n",
    "    \"\"\"\n",
    "\n",
    "    kmeans = KMeans(n_clusters=k, random_state=0).fit(df_scaled)\n",
    "    labels = kmeans.labels_\n",
    "    \n",
    "    return kmeans, labels\n",
    "\n",
    "k = 5\n",
    "kmeans, labels = k_means(c_scaled, k)"
   ]
  },
  {
   "cell_type": "code",
   "execution_count": 13,
   "metadata": {},
   "outputs": [
    {
     "name": "stderr",
     "output_type": "stream",
     "text": [
      "/opt/conda/lib/python3.6/site-packages/pandas/core/internals.py:312: VisibleDeprecationWarning: boolean index did not match indexed array along dimension 0; dimension is 191652 but corresponding boolean dimension is 185560\n",
      "  return self.values[slicer]\n",
      "/opt/conda/lib/python3.6/site-packages/pandas/core/indexes/base.py:2095: VisibleDeprecationWarning: boolean index did not match indexed array along dimension 0; dimension is 191652 but corresponding boolean dimension is 185560\n",
      "  result = getitem(key)\n"
     ]
    },
    {
     "data": {
      "text/html": [
       "<div>\n",
       "<style scoped>\n",
       "    .dataframe tbody tr th:only-of-type {\n",
       "        vertical-align: middle;\n",
       "    }\n",
       "\n",
       "    .dataframe tbody tr th {\n",
       "        vertical-align: top;\n",
       "    }\n",
       "\n",
       "    .dataframe thead th {\n",
       "        text-align: right;\n",
       "    }\n",
       "</style>\n",
       "<table border=\"1\" class=\"dataframe\">\n",
       "  <thead>\n",
       "    <tr style=\"text-align: right;\">\n",
       "      <th></th>\n",
       "      <th>op_1</th>\n",
       "      <th>op_0</th>\n",
       "      <th>pg_cosmetic</th>\n",
       "      <th>pg_cosmetic_food</th>\n",
       "      <th>pg_food</th>\n",
       "      <th>cg_multibuyer</th>\n",
       "      <th>cg_singlebuyer</th>\n",
       "    </tr>\n",
       "  </thead>\n",
       "  <tbody>\n",
       "    <tr>\n",
       "      <th>0</th>\n",
       "      <td>2.33</td>\n",
       "      <td>97.67</td>\n",
       "      <td>5.79</td>\n",
       "      <td>13.29</td>\n",
       "      <td>80.92</td>\n",
       "      <td>17.50</td>\n",
       "      <td>82.50</td>\n",
       "    </tr>\n",
       "    <tr>\n",
       "      <th>1</th>\n",
       "      <td>1.93</td>\n",
       "      <td>98.07</td>\n",
       "      <td>4.86</td>\n",
       "      <td>11.34</td>\n",
       "      <td>83.80</td>\n",
       "      <td>14.80</td>\n",
       "      <td>85.20</td>\n",
       "    </tr>\n",
       "    <tr>\n",
       "      <th>2</th>\n",
       "      <td>1.40</td>\n",
       "      <td>98.60</td>\n",
       "      <td>3.56</td>\n",
       "      <td>8.42</td>\n",
       "      <td>88.02</td>\n",
       "      <td>11.01</td>\n",
       "      <td>88.99</td>\n",
       "    </tr>\n",
       "    <tr>\n",
       "      <th>3</th>\n",
       "      <td>2.40</td>\n",
       "      <td>97.60</td>\n",
       "      <td>5.98</td>\n",
       "      <td>13.90</td>\n",
       "      <td>80.12</td>\n",
       "      <td>18.25</td>\n",
       "      <td>81.75</td>\n",
       "    </tr>\n",
       "    <tr>\n",
       "      <th>4</th>\n",
       "      <td>0.96</td>\n",
       "      <td>99.04</td>\n",
       "      <td>2.45</td>\n",
       "      <td>5.71</td>\n",
       "      <td>91.84</td>\n",
       "      <td>7.51</td>\n",
       "      <td>92.49</td>\n",
       "    </tr>\n",
       "  </tbody>\n",
       "</table>\n",
       "</div>"
      ],
      "text/plain": [
       "   op_1   op_0  pg_cosmetic  pg_cosmetic_food  pg_food  cg_multibuyer  \\\n",
       "0  2.33  97.67         5.79             13.29    80.92          17.50   \n",
       "1  1.93  98.07         4.86             11.34    83.80          14.80   \n",
       "2  1.40  98.60         3.56              8.42    88.02          11.01   \n",
       "3  2.40  97.60         5.98             13.90    80.12          18.25   \n",
       "4  0.96  99.04         2.45              5.71    91.84           7.51   \n",
       "\n",
       "   cg_singlebuyer  \n",
       "0           82.50  \n",
       "1           85.20  \n",
       "2           88.99  \n",
       "3           81.75  \n",
       "4           92.49  "
      ]
     },
     "execution_count": 13,
     "metadata": {},
     "output_type": "execute_result"
    }
   ],
   "source": [
    "n_records = c_scaled.shape[0]\n",
    "values = []\n",
    "for cluster in range(k):\n",
    "    index = labels == cluster\n",
    "    op_1 = round(np.sum(customers['ONLINE_PURCHASE'][index]) / n_records * 100, 2)\n",
    "    op_0 = 100 - op_1\n",
    "    \n",
    "    pg_cosmetic = round(np.sum(customers['PRODUCT_GROUP'][index] == 'COSMETIC') / n_records * 100, 2)\n",
    "    pg_cosmetic_food = round(np.sum(customers['PRODUCT_GROUP'][index] == 'COSMETIC_AND_FOOD') / n_records * 100, 2)\n",
    "    pg_food = 100 - pg_cosmetic - pg_cosmetic_food\n",
    "    \n",
    "    cg_multibuyer = round(np.sum(customers['CUSTOMER_GROUP'][index] == 'MULTI_BUYER') / n_records * 100, 2)\n",
    "    cg_singlebuyer = 100 - cg_multibuyer\n",
    "    \n",
    "    aux = [op_1, op_0, pg_cosmetic, pg_cosmetic_food, pg_food, cg_multibuyer, cg_singlebuyer]\n",
    "    values.append(aux)\n",
    "    \n",
    "cols = ['op_1', 'op_0', 'pg_cosmetic', 'pg_cosmetic_food', 'pg_food', 'cg_multibuyer', 'cg_singlebuyer']\n",
    "df = pd.DataFrame(values, index = range(k), columns = cols)\n",
    "df.head()"
   ]
  },
  {
   "cell_type": "code",
   "execution_count": 14,
   "metadata": {},
   "outputs": [
    {
     "data": {
      "text/html": [
       "<div>\n",
       "<style scoped>\n",
       "    .dataframe tbody tr th:only-of-type {\n",
       "        vertical-align: middle;\n",
       "    }\n",
       "\n",
       "    .dataframe tbody tr th {\n",
       "        vertical-align: top;\n",
       "    }\n",
       "\n",
       "    .dataframe thead th {\n",
       "        text-align: right;\n",
       "    }\n",
       "</style>\n",
       "<table border=\"1\" class=\"dataframe\">\n",
       "  <thead>\n",
       "    <tr style=\"text-align: right;\">\n",
       "      <th></th>\n",
       "      <th>op_1</th>\n",
       "      <th>op_0</th>\n",
       "      <th>pg_cosmetic</th>\n",
       "      <th>pg_cosmetic_food</th>\n",
       "      <th>pg_food</th>\n",
       "      <th>cg_multibuyer</th>\n",
       "      <th>cg_singlebuyer</th>\n",
       "    </tr>\n",
       "  </thead>\n",
       "  <tbody>\n",
       "    <tr>\n",
       "      <th>3</th>\n",
       "      <td>2.40</td>\n",
       "      <td>97.60</td>\n",
       "      <td>5.98</td>\n",
       "      <td>13.90</td>\n",
       "      <td>80.12</td>\n",
       "      <td>18.25</td>\n",
       "      <td>81.75</td>\n",
       "    </tr>\n",
       "    <tr>\n",
       "      <th>0</th>\n",
       "      <td>2.33</td>\n",
       "      <td>97.67</td>\n",
       "      <td>5.79</td>\n",
       "      <td>13.29</td>\n",
       "      <td>80.92</td>\n",
       "      <td>17.50</td>\n",
       "      <td>82.50</td>\n",
       "    </tr>\n",
       "    <tr>\n",
       "      <th>1</th>\n",
       "      <td>1.93</td>\n",
       "      <td>98.07</td>\n",
       "      <td>4.86</td>\n",
       "      <td>11.34</td>\n",
       "      <td>83.80</td>\n",
       "      <td>14.80</td>\n",
       "      <td>85.20</td>\n",
       "    </tr>\n",
       "    <tr>\n",
       "      <th>2</th>\n",
       "      <td>1.40</td>\n",
       "      <td>98.60</td>\n",
       "      <td>3.56</td>\n",
       "      <td>8.42</td>\n",
       "      <td>88.02</td>\n",
       "      <td>11.01</td>\n",
       "      <td>88.99</td>\n",
       "    </tr>\n",
       "    <tr>\n",
       "      <th>4</th>\n",
       "      <td>0.96</td>\n",
       "      <td>99.04</td>\n",
       "      <td>2.45</td>\n",
       "      <td>5.71</td>\n",
       "      <td>91.84</td>\n",
       "      <td>7.51</td>\n",
       "      <td>92.49</td>\n",
       "    </tr>\n",
       "  </tbody>\n",
       "</table>\n",
       "</div>"
      ],
      "text/plain": [
       "   op_1   op_0  pg_cosmetic  pg_cosmetic_food  pg_food  cg_multibuyer  \\\n",
       "3  2.40  97.60         5.98             13.90    80.12          18.25   \n",
       "0  2.33  97.67         5.79             13.29    80.92          17.50   \n",
       "1  1.93  98.07         4.86             11.34    83.80          14.80   \n",
       "2  1.40  98.60         3.56              8.42    88.02          11.01   \n",
       "4  0.96  99.04         2.45              5.71    91.84           7.51   \n",
       "\n",
       "   cg_singlebuyer  \n",
       "3           81.75  \n",
       "0           82.50  \n",
       "1           85.20  \n",
       "2           88.99  \n",
       "4           92.49  "
      ]
     },
     "execution_count": 14,
     "metadata": {},
     "output_type": "execute_result"
    }
   ],
   "source": [
    "df.sort_values('cg_singlebuyer')"
   ]
  },
  {
   "cell_type": "markdown",
   "metadata": {},
   "source": [
    "To finish the part of unsupervised learning, the dataset azdias must be used. This dataset is very useful to find citizens of germany that would be good targets of a marketing campaign. That is, those citizens that are closer to the cluster center number 3 (the cluster with highest online purchase percentage). We can find the closest one with the method transform."
   ]
  },
  {
   "cell_type": "code",
   "execution_count": 47,
   "metadata": {},
   "outputs": [
    {
     "name": "stdout",
     "output_type": "stream",
     "text": [
      "--- Treating NA in pandas dataframe ---\n",
      "Shape of dataframe after NA treatment:  (891221, 113)\n",
      "Shape of dataframe before NA treatment:  (868119, 113)\n",
      "\n",
      "Number of features removed:  0\n",
      "Percentage of records removed:  2.59 %\n",
      "--- Creating dummies and standardizing ---\n",
      "Number of dummies variables created:  0\n",
      "Number of scaled features:  113\n"
     ]
    }
   ],
   "source": [
    "a = azdias[c_scaled.columns]\n",
    "a_nas = treat_NA(a, 100)\n",
    "a_dummies, a_scaled = dummies_and_scale(a_nas)"
   ]
  },
  {
   "cell_type": "code",
   "execution_count": 59,
   "metadata": {},
   "outputs": [],
   "source": [
    "a_closer = np.transpose(kmeans.transform(a_scaled))\n",
    "aux = dict(enumerate(abs(a_closer[3])))\n",
    "aux_sort = {k: v for k, v in sorted(aux.items(), key=lambda item: item[1])}    \n",
    "campaign_target_citizens_index = list(aux_sort.keys())[-3000:]"
   ]
  },
  {
   "cell_type": "markdown",
   "metadata": {},
   "source": [
    "## Part 2: Supervised Learning Model\n",
    "\n",
    "Now that you've found which parts of the population are more likely to be customers of the mail-order company, it's time to build a prediction model. Each of the rows in the \"MAILOUT\" data files represents an individual that was targeted for a mailout campaign. Ideally, we should be able to use the demographic information from each individual to decide whether or not it will be worth it to include that person in the campaign.\n",
    "\n",
    "The \"MAILOUT\" data has been split into two approximately equal parts, each with almost 43 000 data rows. In this part, you can verify your model with the \"TRAIN\" partition, which includes a column, \"RESPONSE\", that states whether or not a person became a customer of the company following the campaign. In the next part, you'll need to create predictions on the \"TEST\" partition, where the \"RESPONSE\" column has been withheld."
   ]
  },
  {
   "cell_type": "code",
   "execution_count": 15,
   "metadata": {},
   "outputs": [
    {
     "name": "stderr",
     "output_type": "stream",
     "text": [
      "/opt/conda/lib/python3.6/site-packages/IPython/core/interactiveshell.py:2785: DtypeWarning: Columns (18,19) have mixed types. Specify dtype option on import or set low_memory=False.\n",
      "  interactivity=interactivity, compiler=compiler, result=result)\n"
     ]
    }
   ],
   "source": [
    "mailout_train = pd.read_csv('../../data/Term2/capstone/arvato_data/Udacity_MAILOUT_052018_TRAIN.csv', sep=';')"
   ]
  },
  {
   "cell_type": "markdown",
   "metadata": {},
   "source": [
    "Given that the train dataset is imbalanced in the response variable, a little exploratory analysis is done in each of the clusters:\n",
    "    - percentage of 1's per cluster\n",
    "    - distribution of 1's per cluster\n",
    "    - percentage of records per cluster"
   ]
  },
  {
   "cell_type": "code",
   "execution_count": 298,
   "metadata": {},
   "outputs": [
    {
     "name": "stdout",
     "output_type": "stream",
     "text": [
      "--- Treating NA in pandas dataframe ---\n",
      "Shape of dataframe after NA treatment:  (42962, 114)\n",
      "Shape of dataframe before NA treatment:  (41671, 114)\n",
      "\n",
      "Number of features removed:  0\n",
      "Percentage of records removed:  3.0 %\n",
      "--- Creating dummies and standardizing ---\n",
      "Number of dummies variables created:  0\n",
      "Number of scaled features:  114\n"
     ]
    }
   ],
   "source": [
    "cols = c_scaled.columns.tolist() ; cols.append('RESPONSE')\n",
    "train_descriptive = mailout_train[cols]\n",
    "train_descriptive_nas = treat_NA(train_descriptive, 100)\n",
    "train_descriptive_dummies, train_descriptive_scaled = dummies_and_scale(train_descriptive_nas)"
   ]
  },
  {
   "cell_type": "code",
   "execution_count": 299,
   "metadata": {
    "scrolled": false
   },
   "outputs": [
    {
     "name": "stdout",
     "output_type": "stream",
     "text": [
      "0 1.18 16.18 17.09\n",
      "1 1.27 16.57 16.29\n",
      "2 1.32 35.07 33.04\n",
      "3 1.44 24.47 21.12\n",
      "4 0.77 7.71 12.46\n"
     ]
    }
   ],
   "source": [
    "train_clusters = kmeans.predict(train_descriptive_scaled.drop('RESPONSE', axis=1))\n",
    "n_responses = np.sum(train_descriptive_scaled['RESPONSE'] == 1)\n",
    "for cluster in range(k):\n",
    "    index = train_clusters == cluster\n",
    "    por_resp_cluster = round(np.sum(train_descriptive_scaled['RESPONSE'][index]) / np.sum(index) * 100, 2) # % of 1's per cluster\n",
    "    por_re_c = round(np.sum(train_descriptive_scaled['RESPONSE'][index]) / n_responses * 100, 2) # % Distribution of 1's per cluster\n",
    "    por_1_cluster = round(np.sum(index) / train_clusters.shape[0] * 100, 2) # % of records in each cluster\n",
    "    \n",
    "    if cluster == 4:\n",
    "        train_cluster = train_descriptive_scaled.iloc[index,:]\n",
    "    print(cluster, por_resp_cluster, por_re_c, por_1_cluster)\n",
    "    "
   ]
  },
  {
   "cell_type": "markdown",
   "metadata": {},
   "source": [
    "Three different training datasets are considered:\n",
    "    - The mailout_train dataset preprocessed (train_scaled)\n",
    "    - The mailout_train clusterized (train_cluster)\n",
    "    - The mailout_train balanced (train_scaled_balanced)\n",
    "    \n",
    "After this, stratified subsets for training, validation and testing are created."
   ]
  },
  {
   "cell_type": "code",
   "execution_count": 300,
   "metadata": {},
   "outputs": [
    {
     "name": "stdout",
     "output_type": "stream",
     "text": [
      "--- Treating NA in pandas dataframe ---\n",
      "Shape of dataframe after NA treatment:  (42962, 16)\n",
      "Shape of dataframe before NA treatment:  (42357, 16)\n",
      "\n",
      "Number of features removed:  0\n",
      "Percentage of records removed:  1.41 %\n",
      "--- Creating dummies and standardizing ---\n",
      "Number of dummies variables created:  0\n",
      "Number of scaled features:  16\n"
     ]
    }
   ],
   "source": [
    "train_cols = selected_cols\n",
    "train_cols.append('RESPONSE')\n",
    "train = mailout_train[train_cols]\n",
    "train_nas = treat_NA(train, 100)\n",
    "train_dummies, train_scaled = dummies_and_scale(train_nas)"
   ]
  },
  {
   "cell_type": "code",
   "execution_count": 301,
   "metadata": {},
   "outputs": [
    {
     "name": "stdout",
     "output_type": "stream",
     "text": [
      "Old percentage of 1s is: 1.24418632103 %\n",
      "New percentage of 1s is: 18.5498064062 %\n"
     ]
    },
    {
     "name": "stderr",
     "output_type": "stream",
     "text": [
      "/opt/conda/lib/python3.6/site-packages/pandas/core/frame.py:3697: SettingWithCopyWarning: \n",
      "A value is trying to be set on a copy of a slice from a DataFrame\n",
      "\n",
      "See the caveats in the documentation: http://pandas.pydata.org/pandas-docs/stable/indexing.html#indexing-view-versus-copy\n",
      "  errors=errors)\n"
     ]
    }
   ],
   "source": [
    "train_scaled_remove_0 = train_scaled.iloc[:40000,:]\n",
    "index = train_scaled_remove_0[train_scaled_remove_0['RESPONSE'] == 0].index\n",
    "train_scaled_remove_0.drop(index, axis=0, inplace=True)\n",
    "\n",
    "train_scaled_balanced = pd.concat([train_scaled_remove_0, train_scaled.iloc[40000:,:]], axis=0)\n",
    "balanced_1 = np.sum(train_scaled_balanced['RESPONSE']  == 1) / train_scaled_balanced.shape[0] * 100\n",
    "print('Old percentage of 1s is:', train_scaled['RESPONSE'].sum() / train_scaled.shape[0] * 100 , '%')\n",
    "print('New percentage of 1s is:', balanced_1, '%')"
   ]
  },
  {
   "cell_type": "code",
   "execution_count": 308,
   "metadata": {},
   "outputs": [],
   "source": [
    "from sklearn.model_selection import train_test_split\n",
    "\n",
    "#train_total = train_cluster[train_cols] \n",
    "train_total = train_scaled \n",
    "#train_total = train_scaled_balanced\n",
    "\n",
    "y = train_total['RESPONSE']\n",
    "X = train_total.drop('RESPONSE', axis = 1)\n",
    "X_train, X_test, y_train, y_test = train_test_split(X, y, test_size=0.2, random_state=42, stratify=y)\n",
    "X_train, X_valid, y_train, y_valid = train_test_split(X_train, y_train, test_size=0.2, random_state=42, stratify=y_train)\n",
    " "
   ]
  },
  {
   "cell_type": "markdown",
   "metadata": {},
   "source": [
    "Next three cells define the neccesary parts of a neural network:\n",
    "    - Data loaders for training, validation and testing\n",
    "    - Class defining the net configuration\n",
    "    - Training function"
   ]
  },
  {
   "cell_type": "code",
   "execution_count": 309,
   "metadata": {},
   "outputs": [],
   "source": [
    "import os\n",
    "import torch\n",
    "from torch.utils.data.sampler import SubsetRandomSampler\n",
    "from torchvision import datasets, models, transforms\n",
    "\n",
    "# number of subprocesses to use for data loading\n",
    "num_workers = 0\n",
    "# how many samples per batch to load\n",
    "batch_size = 20\n",
    "\n",
    "train_target = torch.tensor(y_train.values.astype(np.float32))\n",
    "train = torch.tensor(X_train.values.astype(np.float32)) \n",
    "train_tensor = torch.utils.data.TensorDataset(train, train_target) \n",
    "train_loader = torch.utils.data.DataLoader(dataset = train_tensor, batch_size = batch_size, \\\n",
    "                                           num_workers=num_workers, shuffle=True)\n",
    "\n",
    "valid_target = torch.tensor(y_valid.values.astype(np.float32))\n",
    "valid = torch.tensor(X_valid.values.astype(np.float32)) \n",
    "valid_tensor = torch.utils.data.TensorDataset(valid, valid_target) \n",
    "valid_loader = torch.utils.data.DataLoader(dataset = valid_tensor, batch_size = batch_size, \\\n",
    "                                           num_workers=num_workers, shuffle=True)\n",
    "\n",
    "test_target = torch.tensor(y_test.values.astype(np.float32))\n",
    "test = torch.tensor(X_test.values.astype(np.float32)) \n",
    "test_tensor = torch.utils.data.TensorDataset(test, test_target) \n",
    "test_loader = torch.utils.data.DataLoader(dataset = test_tensor, batch_size = batch_size, \\\n",
    "                                           num_workers=num_workers, shuffle=True)"
   ]
  },
  {
   "cell_type": "code",
   "execution_count": 310,
   "metadata": {},
   "outputs": [],
   "source": [
    "import torch.nn.functional as F\n",
    "import torch.nn as nn\n",
    "import torch.optim as optim\n",
    "\n",
    "class BinaryClassifier(nn.Module):\n",
    "    \"\"\"\n",
    "    Define a neural network that performs binary classification.\n",
    "    The network accept  number of features as input, and produce \n",
    "    a single sigmoid value, that can be rounded to a label: 0 or 1, as output.\n",
    "    \"\"\"\n",
    "\n",
    "    def __init__(self, input_features, hidden_dim1, hidden_dim2, hidden_dim3, output_dim):\n",
    "        \"\"\"\n",
    "        Initialize the model by setting up linear layers.\n",
    "        Use the input parameters to help define the layers of your model.\n",
    "        :param input_features: the number of input features in your training/test data\n",
    "        :param hidden_dim: helps define the number of nodes in the hidden layer(s)\n",
    "        :param output_dim: the number of outputs you want to produce\n",
    "        \"\"\"\n",
    "        super(BinaryClassifier, self).__init__()\n",
    "        # define any initial layers\n",
    "        self.fc1 = nn.Linear(input_features, hidden_dim1)\n",
    "        self.fc11 = nn.Linear(hidden_dim1, hidden_dim2)\n",
    "        self.fc12 = nn.Linear(hidden_dim2, hidden_dim3)\n",
    "        self.fc2 = nn.Linear(hidden_dim3, output_dim)\n",
    "        # dropout layer (p=0.25)\n",
    "        self.dropout = nn.Dropout(0.25)\n",
    "        \n",
    "    \n",
    "    ## TODO: Define the feedforward behavior of the network\n",
    "    def forward(self, x):\n",
    "        \"\"\"\n",
    "        Perform a forward pass of our model on input features, x.\n",
    "        :param x: A batch of input features of size (batch_size, input_features)\n",
    "        :return: A single, sigmoid-activated value as output\n",
    "        \"\"\"\n",
    "        \n",
    "        # define the feedforward behavior\n",
    "        # add 1st hidden layer, with relu activation function\n",
    "        x = F.relu(self.fc1(x))\n",
    "        x = self.dropout(x)\n",
    "        x = F.relu(self.fc11(x))\n",
    "        x = self.dropout(x)\n",
    "        x = F.relu(self.fc12(x))\n",
    "        # add dropout layer\n",
    "        x = self.dropout(x)\n",
    "        # add 2nd hidden layer\n",
    "        x = self.fc2(x)\n",
    "        \n",
    "        return torch.sigmoid(x) # apply sigmoid activation function"
   ]
  },
  {
   "cell_type": "code",
   "execution_count": 305,
   "metadata": {},
   "outputs": [],
   "source": [
    "def train_(n_epochs, loaders, model, optimizer, criterion, use_cuda):\n",
    "    \"\"\"returns trained model\"\"\"\n",
    "    # initialize tracker for minimum validation loss\n",
    "    valid_loss_min = np.Inf \n",
    "    \n",
    "    train_l, valid_l = [], []\n",
    "    for epoch in range(1, n_epochs+1):\n",
    "        # initialize variables to monitor training and validation loss\n",
    "        train_loss = 0.0\n",
    "        valid_loss = 0.0\n",
    "        \n",
    "        ###################\n",
    "        # train the model #\n",
    "        ###################\n",
    "        model.train()\n",
    "        for batch_idx, (data, target) in enumerate(loaders['train']):\n",
    "            # move to GPU\n",
    "            if use_cuda:\n",
    "                data, target = data.cuda(), target.cuda()\n",
    "            \n",
    "            # clear the gradients of all optimized variables\n",
    "            optimizer.zero_grad()\n",
    "            # forward pass: compute predicted outputs by passing inputs to the model\n",
    "            output = model(data)\n",
    "            # calculate the batch loss\n",
    "            loss = criterion(output, target)\n",
    "            # backward pass: compute gradient of the loss with respect to model parameters\n",
    "            loss.backward()\n",
    "            # perform a single optimization step (parameter update)\n",
    "            optimizer.step()\n",
    "            # update training loss\n",
    "            #train_loss += loss.data*data.size(0)\n",
    "            train_loss = train_loss + ((1 / (batch_idx + 1)) * (loss.data - train_loss))\n",
    "\n",
    "        ######################    \n",
    "        # validate the model #\n",
    "        ######################\n",
    "        model.eval()\n",
    "        for batch_idx, (data, target) in enumerate(loaders['valid']):\n",
    "            # move to GPU\n",
    "            if use_cuda:\n",
    "                data, target = data.cuda(), target.cuda()\n",
    "            ## update the average validation loss\n",
    "            output = model(data)\n",
    "            # calculate the batch loss\n",
    "            loss = criterion(output, target)\n",
    "            # update average validation loss \n",
    "            #valid_loss += loss.item()*data.size(0)\n",
    "            \n",
    "            valid_loss = valid_loss + ((1 / (batch_idx + 1)) * (loss.data - valid_loss))\n",
    "            \n",
    "        # print training/validation statistics \n",
    "        print('Epoch: {} \\tTraining Loss: {:.6f} \\tValidation Loss: {:.6f}'.format(\n",
    "            epoch, \n",
    "            train_loss,\n",
    "            valid_loss\n",
    "            ))\n",
    "        train_l.append(train_loss) ; valid_l.append(valid_loss)\n",
    "        \n",
    "        if valid_loss <= valid_loss_min:\n",
    "            print('Validation loss decreased ({:.6f} --> {:.6f}).  Saving model ...'.format(\n",
    "            valid_loss_min,\n",
    "            valid_loss))\n",
    "            valid_loss_min = valid_loss   \n",
    "            \n",
    "    # return trained model\n",
    "    return model, train_l, valid_l"
   ]
  },
  {
   "cell_type": "markdown",
   "metadata": {},
   "source": [
    "The next cell trains the model for a given number of epochs, learning rate and net configuration. If GPU power is available it will be used. Because this is a binary classification the binary cross entropy loss is considered (BCELoss). A plot of the training and validation loss along the epochs is done."
   ]
  },
  {
   "cell_type": "code",
   "execution_count": 311,
   "metadata": {
    "scrolled": true
   },
   "outputs": [
    {
     "name": "stderr",
     "output_type": "stream",
     "text": [
      "/opt/conda/lib/python3.6/site-packages/torch/nn/functional.py:1474: UserWarning: Using a target size (torch.Size([20])) that is different to the input size (torch.Size([20, 1])) is deprecated. Please ensure they have the same size.\n",
      "  \"Please ensure they have the same size.\".format(target.size(), input.size()))\n",
      "/opt/conda/lib/python3.6/site-packages/torch/nn/functional.py:1474: UserWarning: Using a target size (torch.Size([8])) that is different to the input size (torch.Size([8, 1])) is deprecated. Please ensure they have the same size.\n",
      "  \"Please ensure they have the same size.\".format(target.size(), input.size()))\n",
      "/opt/conda/lib/python3.6/site-packages/torch/nn/functional.py:1474: UserWarning: Using a target size (torch.Size([17])) that is different to the input size (torch.Size([17, 1])) is deprecated. Please ensure they have the same size.\n",
      "  \"Please ensure they have the same size.\".format(target.size(), input.size()))\n"
     ]
    },
    {
     "name": "stdout",
     "output_type": "stream",
     "text": [
      "Epoch: 1 \tTraining Loss: 0.099070 \tValidation Loss: 0.067112\n",
      "Validation loss decreased (inf --> 0.067112).  Saving model ...\n",
      "Epoch: 2 \tTraining Loss: 0.069595 \tValidation Loss: 0.066353\n",
      "Validation loss decreased (0.067112 --> 0.066353).  Saving model ...\n",
      "Epoch: 3 \tTraining Loss: 0.068309 \tValidation Loss: 0.065549\n",
      "Validation loss decreased (0.066353 --> 0.065549).  Saving model ...\n",
      "Epoch: 4 \tTraining Loss: 0.067983 \tValidation Loss: 0.065607\n",
      "Epoch: 5 \tTraining Loss: 0.067648 \tValidation Loss: 0.065275\n",
      "Validation loss decreased (0.065549 --> 0.065275).  Saving model ...\n",
      "Epoch: 6 \tTraining Loss: 0.067054 \tValidation Loss: 0.065228\n",
      "Validation loss decreased (0.065275 --> 0.065228).  Saving model ...\n",
      "Epoch: 7 \tTraining Loss: 0.067846 \tValidation Loss: 0.065198\n",
      "Validation loss decreased (0.065228 --> 0.065198).  Saving model ...\n",
      "Epoch: 8 \tTraining Loss: 0.067969 \tValidation Loss: 0.066130\n",
      "Epoch: 9 \tTraining Loss: 0.066949 \tValidation Loss: 0.065252\n",
      "Epoch: 10 \tTraining Loss: 0.066755 \tValidation Loss: 0.064962\n",
      "Validation loss decreased (0.065198 --> 0.064962).  Saving model ...\n",
      "Epoch: 11 \tTraining Loss: 0.066813 \tValidation Loss: 0.065092\n",
      "Epoch: 12 \tTraining Loss: 0.066811 \tValidation Loss: 0.067370\n",
      "Epoch: 13 \tTraining Loss: 0.066735 \tValidation Loss: 0.067006\n",
      "Epoch: 14 \tTraining Loss: 0.066696 \tValidation Loss: 0.065017\n",
      "Epoch: 15 \tTraining Loss: 0.066554 \tValidation Loss: 0.065915\n",
      "Epoch: 16 \tTraining Loss: 0.066417 \tValidation Loss: 0.065491\n",
      "Epoch: 17 \tTraining Loss: 0.066779 \tValidation Loss: 0.065878\n",
      "Epoch: 18 \tTraining Loss: 0.066792 \tValidation Loss: 0.065771\n",
      "Epoch: 19 \tTraining Loss: 0.066171 \tValidation Loss: 0.066863\n",
      "Epoch: 20 \tTraining Loss: 0.067029 \tValidation Loss: 0.066814\n",
      "Epoch: 21 \tTraining Loss: 0.066197 \tValidation Loss: 0.067176\n",
      "Epoch: 22 \tTraining Loss: 0.066387 \tValidation Loss: 0.064862\n",
      "Validation loss decreased (0.064962 --> 0.064862).  Saving model ...\n",
      "Epoch: 23 \tTraining Loss: 0.066273 \tValidation Loss: 0.065015\n",
      "Epoch: 24 \tTraining Loss: 0.065971 \tValidation Loss: 0.067947\n",
      "Epoch: 25 \tTraining Loss: 0.066153 \tValidation Loss: 0.065209\n",
      "Epoch: 26 \tTraining Loss: 0.066111 \tValidation Loss: 0.066261\n",
      "Epoch: 27 \tTraining Loss: 0.065949 \tValidation Loss: 0.065662\n",
      "Epoch: 28 \tTraining Loss: 0.065610 \tValidation Loss: 0.065989\n",
      "Epoch: 29 \tTraining Loss: 0.065894 \tValidation Loss: 0.067166\n",
      "Epoch: 30 \tTraining Loss: 0.065464 \tValidation Loss: 0.066082\n",
      "Epoch: 31 \tTraining Loss: 0.065701 \tValidation Loss: 0.064898\n",
      "Epoch: 32 \tTraining Loss: 0.066120 \tValidation Loss: 0.066021\n",
      "Epoch: 33 \tTraining Loss: 0.065648 \tValidation Loss: 0.067346\n",
      "Epoch: 34 \tTraining Loss: 0.065951 \tValidation Loss: 0.065469\n",
      "Epoch: 35 \tTraining Loss: 0.066192 \tValidation Loss: 0.067889\n",
      "Epoch: 36 \tTraining Loss: 0.065569 \tValidation Loss: 0.066371\n",
      "Epoch: 37 \tTraining Loss: 0.065330 \tValidation Loss: 0.065216\n",
      "Epoch: 38 \tTraining Loss: 0.065011 \tValidation Loss: 0.067132\n",
      "Epoch: 39 \tTraining Loss: 0.065293 \tValidation Loss: 0.066163\n",
      "Epoch: 40 \tTraining Loss: 0.065569 \tValidation Loss: 0.065314\n",
      "Epoch: 41 \tTraining Loss: 0.065856 \tValidation Loss: 0.068791\n",
      "Epoch: 42 \tTraining Loss: 0.065290 \tValidation Loss: 0.071378\n",
      "Epoch: 43 \tTraining Loss: 0.065097 \tValidation Loss: 0.071677\n",
      "Epoch: 44 \tTraining Loss: 0.065933 \tValidation Loss: 0.068197\n",
      "Epoch: 45 \tTraining Loss: 0.065132 \tValidation Loss: 0.065415\n",
      "Epoch: 46 \tTraining Loss: 0.065196 \tValidation Loss: 0.067287\n",
      "Epoch: 47 \tTraining Loss: 0.065645 \tValidation Loss: 0.068252\n",
      "Epoch: 48 \tTraining Loss: 0.064960 \tValidation Loss: 0.070409\n",
      "Epoch: 49 \tTraining Loss: 0.065012 \tValidation Loss: 0.067260\n",
      "Epoch: 50 \tTraining Loss: 0.065017 \tValidation Loss: 0.065252\n"
     ]
    },
    {
     "data": {
      "image/png": "[encoded data removed]",
      "text/plain": [
       "<matplotlib.figure.Figure at 0x7fc05c5909e8>"
      ]
     },
     "metadata": {
      "needs_background": "light"
     },
     "output_type": "display_data"
    }
   ],
   "source": [
    "use_cuda = torch.cuda.is_available()\n",
    "loaders = {}\n",
    "loaders['train'] = train_loader\n",
    "loaders['valid'] = valid_loader\n",
    "model = BinaryClassifier(15, 300, 50, 300, 1)\n",
    "#model = BinaryClassifier(14, 300, 1)\n",
    "optimizer = optim.Adam(model.parameters(), lr=0.0001)\n",
    "criterion = torch.nn.BCELoss()\n",
    "epochs = 50\n",
    "model_scratch, train_l, valid_l = train_(epochs, loaders, model, optimizer, criterion, use_cuda)\n",
    "\n",
    "plt.plot(range(1,epochs+1), train_l)\n",
    "plt.plot(range(1,epochs+1), valid_l)\n",
    "plt.xlabel('Number of epoch')\n",
    "plt.legend(['Train loss', 'Validation loss'])\n",
    "plt.show()"
   ]
  },
  {
   "cell_type": "markdown",
   "metadata": {},
   "source": [
    "The next cell performs the area under the curve (AUC) metric for the model trained in the test dataset. The closest this metric is to 1 the best the model trained is."
   ]
  },
  {
   "cell_type": "code",
   "execution_count": 312,
   "metadata": {
    "scrolled": true
   },
   "outputs": [
    {
     "name": "stdout",
     "output_type": "stream",
     "text": [
      "AUC metric of the neural network is:  0.685370531624\n"
     ]
    }
   ],
   "source": [
    "from sklearn import metrics\n",
    "y = test_target.detach().numpy()\n",
    "pred = model_scratch(test).detach().numpy() \n",
    "fpr, tpr, thresholds = metrics.roc_curve(y, pred)\n",
    "auc = metrics.auc(fpr, tpr)\n",
    "print('AUC metric of the neural network is: ', auc)"
   ]
  },
  {
   "cell_type": "markdown",
   "metadata": {},
   "source": [
    "The benchmark model is trained and tested in the next cell."
   ]
  },
  {
   "cell_type": "code",
   "execution_count": 214,
   "metadata": {},
   "outputs": [
    {
     "name": "stdout",
     "output_type": "stream",
     "text": [
      "AUC metric of the logistic regression is:  0.5\n"
     ]
    }
   ],
   "source": [
    "y = train_target.detach().numpy()\n",
    "X = train.detach().numpy()\n",
    "c_clf, c_coefs = logit_reg(y, X)\n",
    "\n",
    "y = test_target.detach().numpy()\n",
    "pred = c_clf.predict(test)\n",
    "fpr, tpr, thresholds = metrics.roc_curve(y, pred)\n",
    "auc = metrics.auc(fpr, tpr)\n",
    "print('AUC metric of the logistic regression is: ', auc)"
   ]
  },
  {
   "cell_type": "markdown",
   "metadata": {},
   "source": [
    "## Part 3: Kaggle Competition\n",
    "\n",
    "Now that you've created a model to predict which individuals are most likely to respond to a mailout campaign, it's time to test that model in competition through Kaggle. If you click on the link [here](http://www.kaggle.com/t/21e6d45d4c574c7fa2d868f0e8c83140), you'll be taken to the competition page where, if you have a Kaggle account, you can enter. If you're one of the top performers, you may have the chance to be contacted by a hiring manager from Arvato or Bertelsmann for an interview!\n",
    "\n",
    "Your entry to the competition should be a CSV file with two columns. The first column should be a copy of \"LNR\", which acts as an ID number for each individual in the \"TEST\" partition. The second column, \"RESPONSE\", should be some measure of how likely each individual became a customer – this might not be a straightforward probability. As you should have found in Part 2, there is a large output class imbalance, where most individuals did not respond to the mailout. Thus, predicting individual classes and using accuracy does not seem to be an appropriate performance evaluation method. Instead, the competition will be using AUC to evaluate performance. The exact values of the \"RESPONSE\" column do not matter as much: only that the higher values try to capture as many of the actual customers as possible, early in the ROC curve sweep."
   ]
  },
  {
   "cell_type": "code",
   "execution_count": 215,
   "metadata": {},
   "outputs": [
    {
     "name": "stderr",
     "output_type": "stream",
     "text": [
      "/opt/conda/lib/python3.6/site-packages/IPython/core/interactiveshell.py:2785: DtypeWarning: Columns (18,19) have mixed types. Specify dtype option on import or set low_memory=False.\n",
      "  interactivity=interactivity, compiler=compiler, result=result)\n"
     ]
    }
   ],
   "source": [
    "mailout_test = pd.read_csv('../../data/Term2/capstone/arvato_data/Udacity_MAILOUT_052018_TEST.csv', sep=';')"
   ]
  },
  {
   "cell_type": "code",
   "execution_count": 226,
   "metadata": {},
   "outputs": [
    {
     "name": "stdout",
     "output_type": "stream",
     "text": [
      "--- Treating NA in pandas dataframe ---\n",
      "Shape of dataframe after NA treatment:  (42833, 14)\n",
      "Shape of dataframe before NA treatment:  (42255, 14)\n",
      "\n",
      "Number of features removed:  0\n",
      "Percentage of records removed:  1.35 %\n",
      "--- Creating dummies and standardizing ---\n",
      "Number of dummies variables created:  0\n",
      "Number of scaled features:  14\n"
     ]
    }
   ],
   "source": [
    "test_k = mailout_test[selected_cols]\n",
    "test_k_nas = treat_NA(test_k, 100)\n",
    "test_k_dummies, test_k_scaled = dummies_and_scale(test_k_nas)"
   ]
  },
  {
   "cell_type": "code",
   "execution_count": 247,
   "metadata": {},
   "outputs": [],
   "source": [
    "df_kaggle = pd.DataFrame(mailout_test['LNR'][test_k_scaled.index])"
   ]
  },
  {
   "cell_type": "code",
   "execution_count": 234,
   "metadata": {},
   "outputs": [],
   "source": [
    "test_k_scaled_t = torch.tensor(test_k_scaled.values.astype(np.float32)) \n",
    "responses = model_scratch(test_k_scaled_t).detach().numpy()"
   ]
  },
  {
   "cell_type": "code",
   "execution_count": 250,
   "metadata": {},
   "outputs": [],
   "source": [
    "df_kaggle['RESPONSE'] = responses"
   ]
  },
  {
   "cell_type": "code",
   "execution_count": 253,
   "metadata": {},
   "outputs": [],
   "source": [
    "df_kaggle.to_csv('kaggle_test_responses.csv', sep=';')"
   ]
  },
  {
   "cell_type": "code",
   "execution_count": 256,
   "metadata": {},
   "outputs": [
    {
     "data": {
      "text/plain": [
       "Index(['LNR', 'RESPONSES'], dtype='object')"
      ]
     },
     "execution_count": 256,
     "metadata": {},
     "output_type": "execute_result"
    }
   ],
   "source": [
    "df_kaggle.columns"
   ]
  },
  {
   "cell_type": "code",
   "execution_count": null,
   "metadata": {},
   "outputs": [],
   "source": []
  }
 ],
 "metadata": {
  "kernelspec": {
   "display_name": "Python 3",
   "language": "python",
   "name": "python3"
  },
  "language_info": {
   "codemirror_mode": {
    "name": "ipython",
    "version": 3
   },
   "file_extension": ".py",
   "mimetype": "text/x-python",
   "name": "python",
   "nbconvert_exporter": "python",
   "pygments_lexer": "ipython3",
   "version": "3.6.3"
  }
 },
 "nbformat": 4,
 "nbformat_minor": 2
}
